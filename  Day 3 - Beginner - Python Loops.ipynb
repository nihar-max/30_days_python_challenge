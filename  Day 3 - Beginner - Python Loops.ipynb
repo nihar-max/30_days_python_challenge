{
 "cells": [
  {
   "cell_type": "markdown",
   "metadata": {},
   "source": [
    "# Code challenge 1 : Average Height"
   ]
  },
  {
   "cell_type": "markdown",
   "metadata": {},
   "source": [
    "You are going to write a program that calculates the average student height from a List of heights. \n",
    "\n",
    "e.g. `student_heights = [180, 124, 165, 173, 189, 169, 146]`\n",
    "\n",
    "The average height can be calculated by adding all the heights together and dividing by the total number of heights. \n",
    "\n",
    "e.g.\n",
    "\n",
    "180 + 124 + 165 + 173 + 189 + 169 + 146 = **1146**\n",
    "\n",
    "There are a total of **7** heights in `student_heights`\n",
    "\n",
    "1146 ÷ 7 = **163.71428571428572**\n",
    "\n",
    "Average height rounded to the nearest whole number = **164**\n",
    "\n",
    "**Important** You should not use the `sum()` or `len()` functions in your answer. You should try to replicate their functionality using what you have learnt about for loops.\n",
    "\n",
    "# Example Input \n",
    "\n",
    "```\n",
    "156 178 165 171 187\n",
    "```\n",
    "\n",
    "In this case, student_heights would be a list that looks like: [156, 178, 165, 171, 187]\n",
    "\n",
    "# Example Output \n",
    "\n",
    "```\n",
    "171\n",
    "```"
   ]
  },
  {
   "cell_type": "code",
   "execution_count": 1,
   "metadata": {},
   "outputs": [
    {
     "name": "stdout",
     "output_type": "stream",
     "text": [
      "Input a list of student heights 3\n",
      "3\n",
      "3\n"
     ]
    }
   ],
   "source": [
    "# 🚨 Don't change the code below 👇\n",
    "student_heights = input(\"Input a list of student heights \").split()\n",
    "for n in range(0, len(student_heights)):\n",
    "  student_heights[n] = int(student_heights[n])\n",
    "# 🚨 Don't change the code above 👆\n",
    "\n",
    "\n",
    "#Write your code below this row 👇\n",
    "total_height = 0\n",
    "average = 0\n",
    "for height in student_heights:\n",
    "    total_height = total_height + height\n",
    "    average = average + 1\n",
    "print(total_height)\n",
    "average = total_height/average\n",
    "print(round(average))"
   ]
  },
  {
   "cell_type": "markdown",
   "metadata": {},
   "source": [
    "# Code challenge 2 : Highest Score"
   ]
  },
  {
   "cell_type": "markdown",
   "metadata": {},
   "source": [
    "You are going to write a program that calculates the highest score from a List of scores. \n",
    "\n",
    "e.g. `student_scores = [78, 65, 89, 86, 55, 91, 64, 89]`\n",
    "\n",
    "**Important** you are not allowed to use the max or min functions. The output words must match the example. i.e \n",
    "\n",
    "> `The highest score in the class is: x`\n",
    "\n",
    "# Example Input \n",
    "\n",
    "```\n",
    "78 65 89 86 55 91 64 89\n",
    "```\n",
    "\n",
    "In this case, student_scores would be a list that looks like: `[78, 65, 89, 86, 55, 91, 64, 89]`\n",
    "\n",
    "# Example Output \n",
    "\n",
    "```\n",
    "The highest score in the class is: 91\n",
    "```\n"
   ]
  },
  {
   "cell_type": "code",
   "execution_count": 2,
   "metadata": {},
   "outputs": [
    {
     "name": "stdout",
     "output_type": "stream",
     "text": [
      "Input a list of student scores 3\n",
      "The highest score in the class is: 3\n"
     ]
    }
   ],
   "source": [
    "# 🚨 Don't change the code below 👇\n",
    "student_scores = input(\"Input a list of student scores \").split()\n",
    "for n in range(0, len(student_scores)):\n",
    "  student_scores[n] = int(student_scores[n])\n",
    "#print(type(student_scores))\n",
    "# 🚨 Don't change the code above 👆\n",
    "\n",
    "#Write your code below this row 👇\n",
    "highest_score = 0\n",
    "for scores in student_scores:\n",
    "    if highest_score < scores:\n",
    "        highest_score = scores\n",
    "print(\"The highest score in the class is:\",highest_score)"
   ]
  },
  {
   "cell_type": "markdown",
   "metadata": {},
   "source": [
    "# Code challenge 3 : Adding Evens"
   ]
  },
  {
   "cell_type": "markdown",
   "metadata": {},
   "source": [
    "You are going to write a program that calculates the sum of all the even numbers from 1 to 100. Thus, the first even number would be 2 and the last one is 100:\n",
    "\n",
    "i.e. 2 + 4 + 6 + 8 +10 ... + 98 + 100\n",
    "\n",
    "Important, there should only be 1 print statement in your console output. It should just print the final total and not every step of the calculation.\n",
    "\n",
    "# Hint\n",
    "\n",
    "1. There are quite a few ways of solving this problem, but you will need to use the `range()` function in any of the solutions.\n"
   ]
  },
  {
   "cell_type": "code",
   "execution_count": 3,
   "metadata": {},
   "outputs": [
    {
     "name": "stdout",
     "output_type": "stream",
     "text": [
      "2550\n"
     ]
    }
   ],
   "source": [
    "total = 0\n",
    "for number in range(1,101,1):\n",
    "    if number % 2 == 0:\n",
    "        total = total+number\n",
    "print(total)        "
   ]
  },
  {
   "cell_type": "markdown",
   "metadata": {},
   "source": [
    "# Code challenge 4 : FizzBuzz"
   ]
  },
  {
   "cell_type": "markdown",
   "metadata": {},
   "source": [
    "You are going to write a program that automatically prints the solution to the FizzBuzz game. \n",
    "\n",
    "> `Your program should print each number from 1 to 100 in turn.` \n",
    "\n",
    ">   `When the number is divisible by 3 then instead of printing the number it should print \"Fizz\".` \n",
    "\n",
    ">     `When the number is divisible by 5, then instead of printing the number it should print \"Buzz\".` \n",
    "\n",
    ">       `And if the number is divisible by both 3 and 5 e.g. 15 then instead of the number it should print \"FizzBuzz\"`\n",
    "\n",
    "e.g. it might start off like this:\n",
    "\n",
    "```\n",
    "`1\n",
    "2\n",
    "Fizz\n",
    "4\n",
    "Buzz\n",
    "Fizz\n",
    "7\n",
    "8\n",
    "Fizz\n",
    "Buzz\n",
    "11\n",
    "Fizz\n",
    "13\n",
    "14\n",
    "FizzBuzz`\n",
    "```\n",
    "\n",
    "`.... etc.`\n",
    "\n",
    "# Hint\n",
    "\n",
    "1. Remember your answer should start from 1 and go up to and including 100. \n",
    "\n",
    "2. Each number/text should be printed on a separate line.\n"
   ]
  },
  {
   "cell_type": "code",
   "execution_count": 4,
   "metadata": {},
   "outputs": [
    {
     "name": "stdout",
     "output_type": "stream",
     "text": [
      "1\n",
      "2\n",
      "fizz\n",
      "4\n",
      "buzz\n",
      "fizz\n",
      "7\n",
      "8\n",
      "fizz\n",
      "buzz\n",
      "11\n",
      "fizz\n",
      "13\n",
      "14\n",
      "fizzbuz\n",
      "16\n",
      "17\n",
      "fizz\n",
      "19\n",
      "buzz\n",
      "fizz\n",
      "22\n",
      "23\n",
      "fizz\n",
      "buzz\n",
      "26\n",
      "fizz\n",
      "28\n",
      "29\n",
      "fizzbuz\n",
      "31\n",
      "32\n",
      "fizz\n",
      "34\n",
      "buzz\n",
      "fizz\n",
      "37\n",
      "38\n",
      "fizz\n",
      "buzz\n",
      "41\n",
      "fizz\n",
      "43\n",
      "44\n",
      "fizzbuz\n",
      "46\n",
      "47\n",
      "fizz\n",
      "49\n",
      "buzz\n",
      "fizz\n",
      "52\n",
      "53\n",
      "fizz\n",
      "buzz\n",
      "56\n",
      "fizz\n",
      "58\n",
      "59\n",
      "fizzbuz\n",
      "61\n",
      "62\n",
      "fizz\n",
      "64\n",
      "buzz\n",
      "fizz\n",
      "67\n",
      "68\n",
      "fizz\n",
      "buzz\n",
      "71\n",
      "fizz\n",
      "73\n",
      "74\n",
      "fizzbuz\n",
      "76\n",
      "77\n",
      "fizz\n",
      "79\n",
      "buzz\n",
      "fizz\n",
      "82\n",
      "83\n",
      "fizz\n",
      "buzz\n",
      "86\n",
      "fizz\n",
      "88\n",
      "89\n",
      "fizzbuz\n",
      "91\n",
      "92\n",
      "fizz\n",
      "94\n",
      "buzz\n",
      "fizz\n",
      "97\n",
      "98\n",
      "fizz\n",
      "buzz\n"
     ]
    }
   ],
   "source": [
    "for x in range(1,101,1):\n",
    "    if x % 3 == 0 and x % 5 == 0:\n",
    "        print(\"fizzbuz\")\n",
    "    elif x % 3 == 0:\n",
    "        print(\"fizz\")\n",
    "    elif x % 5 == 0:\n",
    "        print(\"buzz\")\n",
    "    else:\n",
    "        print(x)"
   ]
  },
  {
   "cell_type": "markdown",
   "metadata": {},
   "source": [
    "# Project: Create a Password Generator"
   ]
  },
  {
   "cell_type": "markdown",
   "metadata": {},
   "source": [
    "#### Eazy Level - Order not randomised:\n",
    "\n",
    "#### e.g. 4 letter, 2 symbol, 2 number = JduE&!91\n"
   ]
  },
  {
   "cell_type": "code",
   "execution_count": 60,
   "metadata": {},
   "outputs": [
    {
     "name": "stdout",
     "output_type": "stream",
     "text": [
      "Welcome to the PyPassword Generator!\n",
      "How many letters would you like in your password?\n",
      "4\n",
      "How many symbols would you like?\n",
      "3\n",
      "How many numbers would you like?\n",
      "5\n",
      "Your Passwords is :  FFeO&(+77969\n"
     ]
    }
   ],
   "source": [
    "import random\n",
    "letters = ['a', 'b', 'c', 'd', 'e', 'f', 'g', 'h', 'i', 'j', 'k', 'l', 'm', 'n', 'o', 'p', 'q', 'r', 's', 't', 'u', 'v', 'w', 'x', 'y', 'z', 'A', 'B', 'C', 'D', 'E', 'F', 'G', 'H', 'I', 'J', 'K', 'L', 'M', 'N', 'O', 'P', 'Q', 'R', 'S', 'T', 'U', 'V', 'W', 'X', 'Y', 'Z']\n",
    "numbers = ['0', '1', '2', '3', '4', '5', '6', '7', '8', '9']\n",
    "symbols = ['!', '#', '$', '%', '&', '(', ')', '*', '+']\n",
    "\n",
    "print(\"Welcome to the PyPassword Generator!\")\n",
    "nr_letters= int(input(\"How many letters would you like in your password?\\n\")) \n",
    "nr_symbols = int(input(f\"How many symbols would you like?\\n\"))\n",
    "nr_numbers = int(input(f\"How many numbers would you like?\\n\"))\n",
    "\n",
    "password = \"\"\n",
    "for x in range(1,nr_letters + 1):\n",
    "    random_letters = random.choice(letters)\n",
    "    password = password + random_letters\n",
    "    # letters\n",
    "for y in range(1,nr_symbols + 1):\n",
    "    random_symbols = random.choice(symbols)\n",
    "    password = password + random_symbols\n",
    "    # symbols\n",
    "for y in range(1,nr_numbers + 1):\n",
    "    random_numbers = random.choice(numbers)\n",
    "    password = password + random_numbers\n",
    "    #numbers\n",
    "print(\"Your Passwords is : \",password)"
   ]
  },
  {
   "cell_type": "markdown",
   "metadata": {},
   "source": [
    "#### Hard Level - Order of characters randomised:\n",
    "#### e.g. 4 letter, 2 symbol, 2 number = g^2jk8&P"
   ]
  },
  {
   "cell_type": "code",
   "execution_count": 80,
   "metadata": {},
   "outputs": [
    {
     "name": "stdout",
     "output_type": "stream",
     "text": [
      "Welcome to the PyPassword Generator!\n",
      "How many letters would you like in your password?\n",
      "4\n",
      "How many symbols would you like?\n",
      "3\n",
      "How many numbers would you like?\n",
      "2\n",
      "*%w(J89fw\n"
     ]
    }
   ],
   "source": [
    "import random\n",
    "letters = ['a', 'b', 'c', 'd', 'e', 'f', 'g', 'h', 'i', 'j', 'k', 'l', 'm', 'n', 'o', 'p', 'q', 'r', 's', 't', 'u', 'v', 'w', 'x', 'y', 'z', 'A', 'B', 'C', 'D', 'E', 'F', 'G', 'H', 'I', 'J', 'K', 'L', 'M', 'N', 'O', 'P', 'Q', 'R', 'S', 'T', 'U', 'V', 'W', 'X', 'Y', 'Z']\n",
    "numbers = ['0', '1', '2', '3', '4', '5', '6', '7', '8', '9']\n",
    "symbols = ['!', '#', '$', '%', '&', '(', ')', '*', '+']\n",
    "\n",
    "print(\"Welcome to the PyPassword Generator!\")\n",
    "nr_letters= int(input(\"How many letters would you like in your password?\\n\")) \n",
    "nr_symbols = int(input(f\"How many symbols would you like?\\n\"))\n",
    "nr_numbers = int(input(f\"How many numbers would you like?\\n\"))\n",
    "\n",
    "password = \"\"\n",
    "shuffling_password = \"\"\n",
    "shuffled_password = []\n",
    "for x in range(1,nr_letters + 1):\n",
    "    random_letters = random.choice(letters)\n",
    "    password = password + random_letters\n",
    "    # for letters\n",
    "for y in range(1,nr_symbols + 1):\n",
    "    random_symbols = random.choice(symbols)\n",
    "    password = password + random_symbols\n",
    "    # for symbols\n",
    "for y in range(1,nr_numbers + 1):\n",
    "    random_numbers = random.choice(numbers)\n",
    "    password = password + random_numbers\n",
    "    # for numbers\n",
    "shuffled_password = list(password)\n",
    "# Converting str to list\n",
    "random.shuffle(shuffled_password)\n",
    "# shuffling list randomly\n",
    "shuffling_password = ''.join([str(elem) for elem in shuffled_password])\n",
    "# Joining shuffled list to string using for loops\n",
    "print(shuffling_password)"
   ]
  },
  {
   "cell_type": "code",
   "execution_count": null,
   "metadata": {},
   "outputs": [],
   "source": []
  }
 ],
 "metadata": {
  "kernelspec": {
   "display_name": "Python 3",
   "language": "python",
   "name": "python3"
  },
  "language_info": {
   "codemirror_mode": {
    "name": "ipython",
    "version": 3
   },
   "file_extension": ".py",
   "mimetype": "text/x-python",
   "name": "python",
   "nbconvert_exporter": "python",
   "pygments_lexer": "ipython3",
   "version": "3.7.6"
  }
 },
 "nbformat": 4,
 "nbformat_minor": 4
}
