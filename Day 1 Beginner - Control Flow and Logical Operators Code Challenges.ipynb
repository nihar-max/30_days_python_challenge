{
 "cells": [
  {
   "cell_type": "markdown",
   "metadata": {},
   "source": [
    "#  Code challenge 1 : Odd Even excercise"
   ]
  },
  {
   "cell_type": "code",
   "execution_count": 1,
   "metadata": {},
   "outputs": [
    {
     "name": "stdout",
     "output_type": "stream",
     "text": [
      "Which number do you want to check? 4\n",
      "This is an even number\n"
     ]
    }
   ],
   "source": [
    "# 🚨 Don't change the code below 👇\n",
    "number = int(input(\"Which number do you want to check? \"))\n",
    "# 🚨 Don't change the code above 👆\n",
    "\n",
    "#Write your code below this line 👇\n",
    "if number % 2 == 0:\n",
    "  print(\"This is an even number\")\n",
    "else:\n",
    "  print(\"This is an odd number\")"
   ]
  },
  {
   "cell_type": "markdown",
   "metadata": {},
   "source": [
    "# Code Challenge 2: BMI 2.0 exercise"
   ]
  },
  {
   "cell_type": "markdown",
   "metadata": {},
   "source": [
    "Write a program that interprets the Body Mass Index (BMI) based on a user's weight and height.\n",
    "\n",
    "It should tell them the interpretation of their BMI based on the BMI value.\n",
    "\n",
    "- Under 18.5 they are underweight\n",
    "- Over 18.5 but below 25 they have a normal weight\n",
    "- Over 25 but below 30 they are slightly overweight\n",
    "- Over 30 but below 35 they are obese\n",
    "- Above 35 they are clinically obese."
   ]
  },
  {
   "cell_type": "markdown",
   "metadata": {},
   "source": [
    "# Example Input\n",
    "\n",
    "```\n",
    "weight = 85\n",
    "```\n",
    "\n",
    "```\n",
    "height = 1.75\n",
    "```\n",
    "\n",
    "# Example Output\n",
    "\n",
    "85 ÷ (1.75 x 1.75) =  27.755102040816325\n",
    "\n",
    "```\n",
    "Your BMI is 28, you are slightly overweight.\n",
    "```"
   ]
  },
  {
   "cell_type": "code",
   "execution_count": 2,
   "metadata": {},
   "outputs": [
    {
     "name": "stdout",
     "output_type": "stream",
     "text": [
      "enter your height in m: 4\n",
      "enter your weight in kg: 45.3\n",
      "BMI:  3\n",
      "underweight\n"
     ]
    }
   ],
   "source": [
    "# 🚨 Don't change the code below 👇\n",
    "height = float(input(\"enter your height in m: \"))\n",
    "weight = float(input(\"enter your weight in kg: \"))\n",
    "# 🚨 Don't change the code above 👆\n",
    "\n",
    "#Write your code below this line 👇\n",
    "bmi = round(weight / (height*height))\n",
    "print(\"BMI: \",bmi)\n",
    "if bmi < 18.5:\n",
    "  print(\"underweight\")\n",
    "elif bmi < 25:\n",
    "  print(\"normal weight\")\n",
    "elif bmi < 30:\n",
    "  print(\"slightly overweight\")\n",
    "elif bmi < 35:\n",
    "  print(\"obese\")\n",
    "else:\n",
    "  print(\"clinically obese\")"
   ]
  },
  {
   "cell_type": "markdown",
   "metadata": {},
   "source": [
    "# Code Challenge 3 :Leap Year Exercise"
   ]
  },
  {
   "cell_type": "markdown",
   "metadata": {},
   "source": [
    "Write a program that works out whether if a given year is a leap year. A normal year has 365 days, leap years have 366, with an extra day in February. The reason why we have leap years is really fascinating, this video does it more justice:\n",
    "\n",
    "[https://www.youtube.com/watch?v=xX96xng7sAE](https://www.youtube.com/watch?v=xX96xng7sAE)\n",
    "\n",
    "This is how you work out whether if a particular year is a leap year. \n",
    "\n",
    "> `on every year that is evenly divisible by 4\n",
    ">   **except** every year that is evenly divisible by 100\n",
    ">     **unless** the year is also evenly divisible by 400`\n",
    "\n",
    "e.g. The year 2000:\n",
    "\n",
    "2000 ÷ 4 = 500 (Leap)\n",
    "\n",
    "2000 ÷ 100 = 20 (Not Leap)\n",
    "\n",
    "2000 ÷ 400 = 5 (Leap!)\n",
    "\n",
    "So the year 2000 is a leap year."
   ]
  },
  {
   "cell_type": "code",
   "execution_count": 3,
   "metadata": {},
   "outputs": [
    {
     "name": "stdout",
     "output_type": "stream",
     "text": [
      "Which year do you want to check? 2000\n",
      "year 2000 is Leap Year\n"
     ]
    }
   ],
   "source": [
    "# 🚨 Don't change the code below 👇\n",
    "year = int(input(\"Which year do you want to check? \"))\n",
    "# 🚨 Don't change the code above 👆\n",
    "\n",
    "#Write your code below this line 👇\n",
    "if year % 4 == 0:\n",
    "  if year % 100 == 0:\n",
    "    if year % 400 == 0:\n",
    "      print(\"year\",year,\"is\" ,\"Leap Year\")\n",
    "    else:\n",
    "      print(\"year\",year,\"is\" ,\"no leap year\")\n",
    "  else:\n",
    "    print(\"year\",year,\"is\" ,\"leap year\")\n",
    "else:\n",
    "  print(\"year\",year,\"is\" ,\"no leap year\")"
   ]
  },
  {
   "cell_type": "markdown",
   "metadata": {},
   "source": [
    "# Code Challenge 4 : Pizza Order Exercise"
   ]
  },
  {
   "cell_type": "markdown",
   "metadata": {},
   "source": [
    "Congratulations, you've got a job at Python Pizza. Your first job is to build an automatic pizza order program. \n",
    "\n",
    "Based on a user's order, work out their final bill. \n",
    "\n",
    "```\n",
    "Small Pizza: $15\n",
    "```\n",
    "\n",
    "```\n",
    "Medium Pizza: $20\n",
    "```\n",
    "\n",
    "```\n",
    "Large Pizza: $25\n",
    "```\n",
    "\n",
    "```\n",
    "Pepperoni for Small Pizza: +$2\n",
    "```\n",
    "\n",
    "```\n",
    "Pepperoni for Medium or Large Pizza: +$3\n",
    "```\n",
    "\n",
    "```\n",
    "Extra cheese for any size pizza: + $1\n",
    "```\n",
    "\n",
    "# Example Input\n",
    "\n",
    "```\n",
    "size = \"L\"\n",
    "```\n",
    "\n",
    "```\n",
    "add_pepperoni = \"Y\"\n",
    "```\n",
    "\n",
    "```\n",
    "extra_cheese = \"N\"\n",
    "```\n",
    "\n",
    "# Example Output\n",
    "\n",
    "```\n",
    "Your final bill is: $28."
   ]
  },
  {
   "cell_type": "code",
   "execution_count": 4,
   "metadata": {},
   "outputs": [
    {
     "name": "stdout",
     "output_type": "stream",
     "text": [
      "Welcome to Python Pizza Deliveries!\n",
      "What size pizza do you want? S, M, or L : s\n",
      "Do you want pepperoni? Y or N :n\n",
      "Do you want extra cheese? Y or N :n\n",
      "Your Final Bill is 25\n"
     ]
    }
   ],
   "source": [
    "# 🚨 Don't change the code below 👇\n",
    "print(\"Welcome to Python Pizza Deliveries!\")\n",
    "size = input(\"What size pizza do you want? S, M, or L : \")\n",
    "add_pepperoni = input(\"Do you want pepperoni? Y or N :\")\n",
    "extra_cheese = input(\"Do you want extra cheese? Y or N :\")\n",
    "# 🚨 Don't change the code above 👆\n",
    "\n",
    "#Write your code below this line 👇\n",
    "bill = 0\n",
    "if size == \"S\":\n",
    "  bill = 15\n",
    "  \n",
    "elif size == \"M\":\n",
    "  bill = 20\n",
    "\n",
    "else:\n",
    "  bill = 25\n",
    "  \n",
    "if add_pepperoni == \"Y\":\n",
    "  if size == \"S\":\n",
    "    bill = bill + 2\n",
    "  else:\n",
    "    bill = bill + 3\n",
    "\n",
    "if extra_cheese == \"Y\":\n",
    "  bill = bill + 1\n",
    "\n",
    "print(\"Your Final Bill is\",bill)"
   ]
  },
  {
   "cell_type": "markdown",
   "metadata": {},
   "source": [
    "# Code Challenge 4 : Love Calculator"
   ]
  },
  {
   "cell_type": "markdown",
   "metadata": {},
   "source": [
    "You are going to write a program that tests the compatibility between two people.  \n",
    "\n",
    "To work out the love score between two people:\n",
    "\n",
    "> Take both people's names and check for the number of times the letters in the word TRUE occurs. Then check for the number of times the letters in the word LOVE occurs. Then combine these numbers to make a 2 digit number. \n",
    "\n",
    "\n",
    "For Love Scores **less than 10** or **greater than 90**, the message should be:\n",
    "\n",
    "`\"Your score is **x**, you go together like coke and mentos.\"` \n",
    "\n",
    "For Love Scores **between 40** and **50**, the message should be:\n",
    "\n",
    "`\"Your score is **y**, you are alright together.\"`\n",
    "\n",
    "Otherwise, the message will just be their score. e.g.:\n",
    "\n",
    "`\"Your score is **z**.\"`\n",
    "\n",
    "e.g. \n",
    "\n",
    "`name1 = \"Angela Yu\"`\n",
    "\n",
    "`name2 = \"Jack Bauer\"`\n",
    "\n",
    "T occurs 0 times\n",
    "\n",
    "R occurs 1 time\n",
    "\n",
    "U occurs 2 times\n",
    "\n",
    "E occurs 2 times\n",
    "\n",
    "Total = 5\n",
    "\n",
    "L occurs 1 time\n",
    "\n",
    "O occurs 0 times\n",
    "\n",
    "V occurs 0 times\n",
    "\n",
    "E occurs 2 times\n",
    "\n",
    "Total = 3\n",
    "\n",
    "Love Score = 53\n",
    "\n",
    "Print: \"Your score is 53.\"\n",
    "\n",
    "# Example Input 1\n",
    "\n",
    "```\n",
    "name1 = \"Kanye West\"\n",
    "```\n",
    "\n",
    "```\n",
    "name2 = \"Kim Kardashian\"\n",
    "```\n",
    "\n",
    "# Example Output 1\n",
    "\n",
    "```\n",
    "Your score is 42, you are alright together.\n",
    "```"
   ]
  },
  {
   "cell_type": "code",
   "execution_count": 33,
   "metadata": {},
   "outputs": [
    {
     "name": "stdout",
     "output_type": "stream",
     "text": [
      "enter name: Johnny Depp\n",
      "enter name: Winnona Ryder\n",
      "Your Love Score is  35\n",
      "<class 'int'>\n",
      "Your score is 35.\n"
     ]
    }
   ],
   "source": [
    "name1 = input('enter name: ')\n",
    "name2 = input('enter name: ')\n",
    "\n",
    "name1 = name1.lower()\n",
    "name2 = name2.lower()\n",
    "total1 = name1.count(\"t\") + name1.count(\"r\")+name1.count(\"u\")+name1.count(\"e\")+name1.count(\"l\")+name1.count(\"o\")+name1.count(\"v\")+name1.count(\"e\")\n",
    "total2 = name2.count(\"t\") + name2.count(\"r\")+name2.count(\"u\")+name2.count(\"e\")+name2.count(\"l\")+name2.count(\"o\")+name2.count(\"v\")+name2.count(\"e\")\n",
    "\n",
    "total1_str = str(total1)\n",
    "total2_str = str(total2)\n",
    "\n",
    "#print(total1_str + total2_str)\n",
    "\n",
    "love_score = total1_str + total2_str\n",
    "love_score = int(love_score)\n",
    "\n",
    "print(\"Your Love Score is \",love_score)\n",
    "print(type(love_score))\n",
    "\n",
    "if love_score < 10 or love_score > 90:\n",
    "    print(f\"Your score is , {love_score} you go together like coke and mentos.\")\n",
    "elif love_score >= 40 and love_score <= 50:\n",
    "    print(f\"Your score is {love_score}, you are alright together.\")\n",
    "else:\n",
    "    print(f\"Your score is {love_score}.\")"
   ]
  },
  {
   "cell_type": "markdown",
   "metadata": {},
   "source": [
    "# Project: Treasure Island"
   ]
  },
  {
   "cell_type": "code",
   "execution_count": 10,
   "metadata": {},
   "outputs": [
    {
     "name": "stdout",
     "output_type": "stream",
     "text": [
      "\n",
      "*******************************************************************************\n",
      "          |                   |                  |                     |\n",
      " _________|________________.=\"\"_;=.______________|_____________________|_______\n",
      "|                   |  ,-\"_,=\"\"     `\"=.|                  |\n",
      "|___________________|__\"=._o`\"-._        `\"=.______________|___________________\n",
      "          |                `\"=._o`\"=._      _`\"=._                     |\n",
      " _________|_____________________:=._o \"=._.\"_.-=\"'\"=.__________________|_______\n",
      "|                   |    __.--\" , ; `\"=._o.\" ,-\"\"\"-._ \".   |\n",
      "|___________________|_._\"  ,. .` ` `` ,  `\"-._\"-._   \". '__|___________________\n",
      "          |           |o`\"=._` , \"` `; .\". ,  \"-._\"-._; ;              |\n",
      " _________|___________| ;`-.o`\"=._; .\" ` '`.\"\\` . \"-._ /_______________|_______\n",
      "|                   | |o;    `\"-.o`\"=._``  '` \" ,__.--o;   |\n",
      "|___________________|_| ;     (#) `-.o `\"=.`_.--\"_o.-; ;___|___________________\n",
      "____/______/______/___|o;._    \"      `\".o|o_.--\"    ;o;____/______/______/____\n",
      "/______/______/______/_\"=._o--._        ; | ;        ; ;/______/______/______/_\n",
      "____/______/______/______/__\"=._o--._   ;o|o;     _._;o;____/______/______/____\n",
      "/______/______/______/______/____\"=._o._; | ;_.--\"o.--\"_/______/______/______/_\n",
      "____/______/______/______/______/_____\"=.o|o_.--\"\"___/______/______/______/____\n",
      "/______/______/______/______/______/______/______/______/______/______/_____ /\n",
      "*******************************************************************************\n",
      "\n",
      "Welcome to Treasure Island.\n",
      "Your mission is to find the treasure.\n",
      "choose left or right : Left\n",
      "Yeah! you just passed the level 1 of this treasure hunt, now type \"wait\" for wait for boat or type \"swim\" to swim accross lake: WAIT\n",
      "Yeah! you just passed the level 2 of this treasure hunt,now you have to choose any one door out of 3 doors i.e. blue , red, yellow:YellOw\n",
      "Congratulations!!!!, You Won.\n"
     ]
    }
   ],
   "source": [
    "print('''\n",
    "*******************************************************************************\n",
    "          |                   |                  |                     |\n",
    " _________|________________.=\"\"_;=.______________|_____________________|_______\n",
    "|                   |  ,-\"_,=\"\"     `\"=.|                  |\n",
    "|___________________|__\"=._o`\"-._        `\"=.______________|___________________\n",
    "          |                `\"=._o`\"=._      _`\"=._                     |\n",
    " _________|_____________________:=._o \"=._.\"_.-=\"'\"=.__________________|_______\n",
    "|                   |    __.--\" , ; `\"=._o.\" ,-\"\"\"-._ \".   |\n",
    "|___________________|_._\"  ,. .` ` `` ,  `\"-._\"-._   \". '__|___________________\n",
    "          |           |o`\"=._` , \"` `; .\". ,  \"-._\"-._; ;              |\n",
    " _________|___________| ;`-.o`\"=._; .\" ` '`.\"\\` . \"-._ /_______________|_______\n",
    "|                   | |o;    `\"-.o`\"=._``  '` \" ,__.--o;   |\n",
    "|___________________|_| ;     (#) `-.o `\"=.`_.--\"_o.-; ;___|___________________\n",
    "____/______/______/___|o;._    \"      `\".o|o_.--\"    ;o;____/______/______/____\n",
    "/______/______/______/_\"=._o--._        ; | ;        ; ;/______/______/______/_\n",
    "____/______/______/______/__\"=._o--._   ;o|o;     _._;o;____/______/______/____\n",
    "/______/______/______/______/____\"=._o._; | ;_.--\"o.--\"_/______/______/______/_\n",
    "____/______/______/______/______/_____\"=.o|o_.--\"\"___/______/______/______/____\n",
    "/______/______/______/______/______/______/______/______/______/______/_____ /\n",
    "*******************************************************************************\n",
    "''')\n",
    "print(\"Welcome to Treasure Island.\")\n",
    "print(\"Your mission is to find the treasure.\") \n",
    "\n",
    "choice1 = input('choose left or right : ').lower()\n",
    "#door = input('choose door colour out of blue, red, yellow')\n",
    "\n",
    "if choice1 == 'left':\n",
    "    choice2 = input('Yeah! you just passed the level 1 of this treasure hunt, now type \"wait\" for wait for boat or type \"swim\" to swim accross lake: ').lower()\n",
    "    if choice2 == 'wait':\n",
    "        choice3 = input('Yeah! you just passed the level 2 of this treasure hunt,now you have to choose any one door out of 3 doors i.e. blue , red, yellow:').lower()\n",
    "        if choice3 == 'yellow':\n",
    "            print('Congratulations!!!!, You Won.')\n",
    "        elif choice3 == 'red':\n",
    "            print('sorry game over you was just close to win')\n",
    "        elif choice3 == 'blue':\n",
    "            print('oh! you just lost this game sorry')\n",
    "        else:\n",
    "            print('ohh you just lost')\n",
    "    else:\n",
    "        print('game over')\n",
    "else:\n",
    "    print(\"game over\")"
   ]
  },
  {
   "cell_type": "code",
   "execution_count": null,
   "metadata": {},
   "outputs": [],
   "source": []
  }
 ],
 "metadata": {
  "kernelspec": {
   "display_name": "Python 3",
   "language": "python",
   "name": "python3"
  },
  "language_info": {
   "codemirror_mode": {
    "name": "ipython",
    "version": 3
   },
   "file_extension": ".py",
   "mimetype": "text/x-python",
   "name": "python",
   "nbconvert_exporter": "python",
   "pygments_lexer": "ipython3",
   "version": "3.7.6"
  }
 },
 "nbformat": 4,
 "nbformat_minor": 4
}
